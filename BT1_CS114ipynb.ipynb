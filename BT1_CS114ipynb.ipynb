{
  "nbformat": 4,
  "nbformat_minor": 0,
  "metadata": {
    "colab": {
      "provenance": []
    },
    "kernelspec": {
      "name": "python3",
      "display_name": "Python 3"
    },
    "language_info": {
      "name": "python"
    }
  },
  "cells": [
    {
      "cell_type": "code",
      "execution_count": null,
      "metadata": {
        "colab": {
          "base_uri": "https://localhost:8080/"
        },
        "id": "1J81NMyYiQbJ",
        "outputId": "926bb8f2-deba-4f7c-8705-8e779a3c31de"
      },
      "outputs": [
        {
          "output_type": "stream",
          "name": "stdout",
          "text": [
            "Mounted at /content/drive\n"
          ]
        }
      ],
      "source": [
        "from google.colab import drive\n",
        "drive.mount('/content/drive')"
      ]
    },
    {
      "cell_type": "code",
      "source": [
        "import pandas as pd\n",
        "import os\n",
        "import csv\n",
        "\n",
        "# Define the directory containing image folders\n",
        "dir = '/content/drive/MyDrive/Public_New'\n",
        "\n",
        "# Paths to different automaker folders\n",
        "huyndai_path = os.path.join(dir, 'Huyndai')\n",
        "vinfast_path = os.path.join(dir, 'VinFast')\n",
        "suzuki_path = os.path.join(dir, 'Suzuki')\n",
        "others_path = os.path.join(dir, 'Others')\n",
        "honda_path = os.path.join(dir, 'Honda')\n",
        "mazda_path = os.path.join(dir, 'Mazda')\n",
        "mitsubishi_path = os.path.join(dir, 'Mitsubishi')\n",
        "toyota_path = os.path.join(dir, 'Toyota')\n",
        "kia_path = os.path.join(dir, 'KIA')\n",
        "# Dictionary mapping paths to automaker names\n",
        "automakers = {\n",
        "    huyndai_path: 'Huyndai',\n",
        "    vinfast_path: 'VinFast',\n",
        "    suzuki_path: 'Suzuki',\n",
        "    others_path: 'Others',\n",
        "    honda_path: 'Honda',\n",
        "    mazda_path: 'Mazda',\n",
        "    mitsubishi_path: 'Mitsubishi',\n",
        "    toyota_path: 'Toyota',\n",
        "    kia_path: 'KIA'\n",
        "}\n",
        "\n",
        "# Dictionary to store MSSV information\n",
        "MSSVs = {}\n",
        "\n",
        "# Iterate over each automaker's path\n",
        "for path, name in automakers.items():\n",
        "    # Walk through files in the current path\n",
        "    for _, _, files in os.walk(path):\n",
        "        for file_name in files:\n",
        "            # Check if file is an image file\n",
        "            if file_name.endswith(('.jpg', '.jpeg', '.png')):\n",
        "                # Split file name by '.'\n",
        "                li = file_name.split('.')\n",
        "                # Check if file name format is correct\n",
        "                if len(li) != 4:\n",
        "                    continue\n",
        "                # Check if image belongs to the correct automaker folder\n",
        "                if li[-3] != name:\n",
        "                    continue\n",
        "                # Extract MSSV(s) from the file name\n",
        "                mssvs = li[0].split('-')\n",
        "\n",
        "                # Update MSSVs dictionary\n",
        "                for mssv in mssvs:\n",
        "                    if mssv in MSSVs:\n",
        "                        if name in MSSVs[mssv]:\n",
        "                            MSSVs[mssv][name] += 1\n",
        "                        else:\n",
        "                            MSSVs[mssv][name] = 1\n",
        "                    else:\n",
        "                        MSSVs[mssv] = {name: 1}\n",
        "\n",
        "# Prepare data for CSV files\n",
        "data_file1 = []\n",
        "data_file2 = []\n",
        "\n",
        "# Generate data for file1 and file2\n",
        "for key, items in MSSVs.items():\n",
        "    num_all = sum(items.values())  # Total count for all automakers\n",
        "\n",
        "    # Append data for file1\n",
        "    data_file1.append([key, 'All', num_all])\n",
        "\n",
        "    # Append data for file2\n",
        "    for automaker, count in items.items():\n",
        "        data_file2.append([key, automaker, count])\n",
        "\n",
        "    # Add entries for automakers with no images (count = 0)\n",
        "    for automaker_path, automaker_name in automakers.items():\n",
        "        if automaker_name not in items:\n",
        "            data_file2.append([key, automaker_name, 0])\n",
        "\n",
        "# Define output file paths\n",
        "file1 = 'drive/MyDrive/CarDataset-1.csv'\n",
        "file2 = 'drive/MyDrive/CarDataset-2.csv'\n",
        "\n",
        "# Write data to CSV files\n",
        "with open(file1, 'w', newline='') as file:\n",
        "    writer = csv.writer(file)\n",
        "    writer.writerows(data_file1)\n",
        "\n",
        "with open(file2, 'w', newline='') as file:\n",
        "    writer = csv.writer(file)\n",
        "    writer.writerows(data_file2)\n",
        "\n",
        "# Read CSV files into Pandas DataFrames\n",
        "df1 = pd.read_csv(file1, names=['MSSV', 'All', 'Số lượng'])\n",
        "df2 = pd.read_csv(file2, names=['MSSV', 'Hãng xe', 'Số lượng'])\n",
        "df1 = df1.sort_values(by='Số lượng', ascending=False)\n",
        "df2 = df2.sort_values(by='Số lượng', ascending=False)\n",
        "# Print the DataFrames\n",
        "print(f'CarDataset-1.csv:\\n\\n{df1}\\n\\n')\n",
        "print(f'CarDataset-2.csv:\\n\\n{df2}\\n')\n"
      ],
      "metadata": {
        "colab": {
          "base_uri": "https://localhost:8080/"
        },
        "id": "jKUlkJY7iRDY",
        "outputId": "3694f86d-d16f-4488-a45f-037bc8095755"
      },
      "execution_count": null,
      "outputs": [
        {
          "output_type": "stream",
          "name": "stdout",
          "text": [
            "CarDataset-1.csv:\n",
            "\n",
            "        MSSV  All  Số lượng\n",
            "17  22520195  All     10858\n",
            "16  22521027  All     10858\n",
            "18  22521060  All     10858\n",
            "25  22520862  All      3607\n",
            "24  22520507  All      3607\n",
            "23  22520459  All      3607\n",
            "1   22520395  All      3114\n",
            "0   22520394  All      3114\n",
            "20  22521587  All      2356\n",
            "19  22520779  All      2356\n",
            "38  22521070  All      1789\n",
            "39  22520211  All      1789\n",
            "33  22521342  All      1644\n",
            "34  22520970  All      1644\n",
            "6   22521586  All      1379\n",
            "7   22521559  All      1379\n",
            "9   21522924  All      1192\n",
            "42  22521692  All      1035\n",
            "43  22521676  All      1035\n",
            "41  21522771  All       815\n",
            "40  21522500  All       815\n",
            "50  21520938  All       775\n",
            "51  22520634  All       775\n",
            "3   22521599  All       717\n",
            "2   22521492  All       717\n",
            "8   21520930  All       596\n",
            "45  22520915  All       554\n",
            "44  22520914  All       552\n",
            "13  22520490  All       465\n",
            "12  22520477  All       465\n",
            "15  22521614  All       449\n",
            "14  22521560  All       449\n",
            "4   21522373  All       411\n",
            "5   21522499  All       411\n",
            "26  22520348  All       349\n",
            "28  22520837  All       349\n",
            "27  22520530  All       349\n",
            "35  22521259  All       314\n",
            "37  22521463  All       314\n",
            "36  22521213  All       314\n",
            "30  22520884  All       267\n",
            "29  22520521  All       267\n",
            "46  22521465  All       180\n",
            "47  22520811  All       180\n",
            "48  22520683  All       180\n",
            "11  22520967  All       174\n",
            "10  22520550  All       174\n",
            "32  22520213  All       139\n",
            "31  22520223  All       139\n",
            "22  22520318  All       106\n",
            "21  22521425  All       106\n",
            "52  22520581  All       100\n",
            "49   2252014  All         2\n",
            "\n",
            "\n",
            "CarDataset-2.csv:\n",
            "\n",
            "         MSSV  Hãng xe  Số lượng\n",
            "208  22520459   Suzuki      2400\n",
            "217  22520507   Suzuki      2400\n",
            "226  22520862   Suzuki      2400\n",
            "145  22521027   Suzuki      2307\n",
            "163  22521060   Suzuki      2307\n",
            "..        ...      ...       ...\n",
            "368  21522500  VinFast         0\n",
            "98   22520550   Others         0\n",
            "97   22520550  Huyndai         0\n",
            "376  21522771  Huyndai         0\n",
            "476  22520581      KIA         0\n",
            "\n",
            "[477 rows x 3 columns]\n",
            "\n"
          ]
        }
      ]
    },
    {
      "cell_type": "code",
      "source": [
        "from google.colab import files\n",
        "files.download(file1)\n",
        "files.download(file2)"
      ],
      "metadata": {
        "colab": {
          "base_uri": "https://localhost:8080/",
          "height": 17
        },
        "id": "Sw2TyajUnADu",
        "outputId": "f3528a89-a035-4de4-8bba-62a81e272bd8"
      },
      "execution_count": null,
      "outputs": [
        {
          "output_type": "display_data",
          "data": {
            "text/plain": [
              "<IPython.core.display.Javascript object>"
            ],
            "application/javascript": [
              "\n",
              "    async function download(id, filename, size) {\n",
              "      if (!google.colab.kernel.accessAllowed) {\n",
              "        return;\n",
              "      }\n",
              "      const div = document.createElement('div');\n",
              "      const label = document.createElement('label');\n",
              "      label.textContent = `Downloading \"${filename}\": `;\n",
              "      div.appendChild(label);\n",
              "      const progress = document.createElement('progress');\n",
              "      progress.max = size;\n",
              "      div.appendChild(progress);\n",
              "      document.body.appendChild(div);\n",
              "\n",
              "      const buffers = [];\n",
              "      let downloaded = 0;\n",
              "\n",
              "      const channel = await google.colab.kernel.comms.open(id);\n",
              "      // Send a message to notify the kernel that we're ready.\n",
              "      channel.send({})\n",
              "\n",
              "      for await (const message of channel.messages) {\n",
              "        // Send a message to notify the kernel that we're ready.\n",
              "        channel.send({})\n",
              "        if (message.buffers) {\n",
              "          for (const buffer of message.buffers) {\n",
              "            buffers.push(buffer);\n",
              "            downloaded += buffer.byteLength;\n",
              "            progress.value = downloaded;\n",
              "          }\n",
              "        }\n",
              "      }\n",
              "      const blob = new Blob(buffers, {type: 'application/binary'});\n",
              "      const a = document.createElement('a');\n",
              "      a.href = window.URL.createObjectURL(blob);\n",
              "      a.download = filename;\n",
              "      div.appendChild(a);\n",
              "      a.click();\n",
              "      div.remove();\n",
              "    }\n",
              "  "
            ]
          },
          "metadata": {}
        },
        {
          "output_type": "display_data",
          "data": {
            "text/plain": [
              "<IPython.core.display.Javascript object>"
            ],
            "application/javascript": [
              "download(\"download_aff20e9b-a195-431e-a85e-3b7aee0b5feb\", \"CarDataset-1.csv\", 973)"
            ]
          },
          "metadata": {}
        },
        {
          "output_type": "display_data",
          "data": {
            "text/plain": [
              "<IPython.core.display.Javascript object>"
            ],
            "application/javascript": [
              "\n",
              "    async function download(id, filename, size) {\n",
              "      if (!google.colab.kernel.accessAllowed) {\n",
              "        return;\n",
              "      }\n",
              "      const div = document.createElement('div');\n",
              "      const label = document.createElement('label');\n",
              "      label.textContent = `Downloading \"${filename}\": `;\n",
              "      div.appendChild(label);\n",
              "      const progress = document.createElement('progress');\n",
              "      progress.max = size;\n",
              "      div.appendChild(progress);\n",
              "      document.body.appendChild(div);\n",
              "\n",
              "      const buffers = [];\n",
              "      let downloaded = 0;\n",
              "\n",
              "      const channel = await google.colab.kernel.comms.open(id);\n",
              "      // Send a message to notify the kernel that we're ready.\n",
              "      channel.send({})\n",
              "\n",
              "      for await (const message of channel.messages) {\n",
              "        // Send a message to notify the kernel that we're ready.\n",
              "        channel.send({})\n",
              "        if (message.buffers) {\n",
              "          for (const buffer of message.buffers) {\n",
              "            buffers.push(buffer);\n",
              "            downloaded += buffer.byteLength;\n",
              "            progress.value = downloaded;\n",
              "          }\n",
              "        }\n",
              "      }\n",
              "      const blob = new Blob(buffers, {type: 'application/binary'});\n",
              "      const a = document.createElement('a');\n",
              "      a.href = window.URL.createObjectURL(blob);\n",
              "      a.download = filename;\n",
              "      div.appendChild(a);\n",
              "      a.click();\n",
              "      div.remove();\n",
              "    }\n",
              "  "
            ]
          },
          "metadata": {}
        },
        {
          "output_type": "display_data",
          "data": {
            "text/plain": [
              "<IPython.core.display.Javascript object>"
            ],
            "application/javascript": [
              "download(\"download_22ad7569-cb9f-49bd-9414-dcb92bb6f60b\", \"CarDataset-2.csv\", 9650)"
            ]
          },
          "metadata": {}
        }
      ]
    },
    {
      "cell_type": "code",
      "source": [],
      "metadata": {
        "id": "cxviIBAoxjru"
      },
      "execution_count": null,
      "outputs": []
    }
  ]
}